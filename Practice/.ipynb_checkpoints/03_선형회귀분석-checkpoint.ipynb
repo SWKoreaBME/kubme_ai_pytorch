{
 "cells": [
  {
   "cell_type": "markdown",
   "metadata": {},
   "source": [
    "# 선형회귀분석 \n",
    "\n",
    "### 순서\n",
    "\n",
    "1. 데이터 준비\n",
    "2. 선형회귀 모델\n",
    "3. 최적화 함수\n",
    "4. 학습 진행\n",
    "5. 모델 검증"
   ]
  },
  {
   "cell_type": "code",
   "execution_count": 6,
   "metadata": {},
   "outputs": [],
   "source": [
    "import torch\n",
    "import torch.nn as nn\n",
    "import torch.optim as optim\n",
    "import torch.nn.init as init"
   ]
  },
  {
   "cell_type": "markdown",
   "metadata": {},
   "source": [
    "### 데이터 준비"
   ]
  },
  {
   "cell_type": "code",
   "execution_count": 26,
   "metadata": {},
   "outputs": [
    {
     "name": "stdout",
     "output_type": "stream",
     "text": [
      "torch.Size([1000, 1])\n"
     ]
    }
   ],
   "source": [
    "# 학습 데이터 준비\n",
    "num_data = 1000\n",
    "\n",
    "# https://pytorch.org/docs/stable/tensors.html\n",
    "x = init.uniform_(torch.Tensor(num_data, 1), -10, 10) # -10 ~ 10 까지 균등하게 초기화\n",
    "\n",
    "print(x.size())\n",
    "\n",
    "noise = init.normal_(torch.FloatTensor(num_data, 1), std = 1) \n",
    "\n",
    "y = 2*x + 3 # y = 2x + 3\n",
    "y_noise = 2*(x+noise) + 3 # 실제 데이터가 아닌 noise 를 갖는 데이터"
   ]
  },
  {
   "cell_type": "markdown",
   "metadata": {},
   "source": [
    "### 선형회귀 모델 준비"
   ]
  },
  {
   "cell_type": "code",
   "execution_count": 27,
   "metadata": {},
   "outputs": [],
   "source": [
    "model = nn.Linear(in_features=1, out_features=1) # 독립 변수 1개, 종속 변수 1개\n",
    "loss_func = nn.L1Loss() # 단순히 실제 데이터 - 학습 데이터 를 뺀 후, 절댓값을 씌운 L1 loss"
   ]
  },
  {
   "cell_type": "markdown",
   "metadata": {},
   "source": [
    "### 최적화 함수"
   ]
  },
  {
   "cell_type": "code",
   "execution_count": 28,
   "metadata": {},
   "outputs": [],
   "source": [
    "learning_rate = 0.01 # 최적화를 얼마나 빠르게 진행할지에 대한 hyper parameter\n",
    "optimizer = optim.SGD(model.parameters(), lr = learning_rate)"
   ]
  },
  {
   "cell_type": "markdown",
   "metadata": {},
   "source": [
    "### 학습 진행"
   ]
  },
  {
   "cell_type": "code",
   "execution_count": 39,
   "metadata": {
    "collapsed": true
   },
   "outputs": [
    {
     "name": "stdout",
     "output_type": "stream",
     "text": [
      "tensor(1.6094)\n",
      "tensor(1.6090)\n",
      "tensor(1.6087)\n",
      "tensor(1.6084)\n",
      "tensor(1.6082)\n",
      "tensor(1.6079)\n",
      "tensor(1.6077)\n",
      "tensor(1.6074)\n",
      "tensor(1.6072)\n",
      "tensor(1.6071)\n",
      "tensor(1.6069)\n",
      "tensor(1.6068)\n",
      "tensor(1.6067)\n",
      "tensor(1.6066)\n",
      "tensor(1.6065)\n",
      "tensor(1.6064)\n",
      "tensor(1.6063)\n",
      "tensor(1.6063)\n",
      "tensor(1.6062)\n",
      "tensor(1.6062)\n",
      "tensor(1.6061)\n",
      "tensor(1.6061)\n",
      "tensor(1.6060)\n",
      "tensor(1.6060)\n",
      "tensor(1.6060)\n",
      "tensor(1.6060)\n",
      "tensor(1.6059)\n",
      "tensor(1.6059)\n",
      "tensor(1.6059)\n",
      "tensor(1.6059)\n",
      "tensor(1.6059)\n",
      "tensor(1.6058)\n",
      "tensor(1.6058)\n",
      "tensor(1.6058)\n",
      "tensor(1.6058)\n",
      "tensor(1.6058)\n",
      "tensor(1.6058)\n",
      "tensor(1.6058)\n",
      "tensor(1.6058)\n",
      "tensor(1.6058)\n",
      "tensor(1.6057)\n",
      "tensor(1.6057)\n",
      "tensor(1.6057)\n",
      "tensor(1.6057)\n",
      "tensor(1.6057)\n",
      "tensor(1.6057)\n",
      "tensor(1.6057)\n",
      "tensor(1.6057)\n",
      "tensor(1.6057)\n",
      "tensor(1.6057)\n",
      "tensor(1.6057)\n",
      "tensor(1.6057)\n",
      "tensor(1.6057)\n",
      "tensor(1.6057)\n",
      "tensor(1.6057)\n",
      "tensor(1.6057)\n",
      "tensor(1.6056)\n",
      "tensor(1.6056)\n",
      "tensor(1.6056)\n",
      "tensor(1.6056)\n",
      "tensor(1.6056)\n",
      "tensor(1.6056)\n",
      "tensor(1.6056)\n",
      "tensor(1.6056)\n",
      "tensor(1.6056)\n",
      "tensor(1.6056)\n",
      "tensor(1.6056)\n",
      "tensor(1.6056)\n",
      "tensor(1.6056)\n",
      "tensor(1.6056)\n",
      "tensor(1.6056)\n",
      "tensor(1.6056)\n",
      "tensor(1.6056)\n",
      "tensor(1.6056)\n",
      "tensor(1.6056)\n",
      "tensor(1.6056)\n",
      "tensor(1.6056)\n",
      "tensor(1.6056)\n",
      "tensor(1.6056)\n",
      "tensor(1.6056)\n",
      "tensor(1.6056)\n",
      "tensor(1.6056)\n",
      "tensor(1.6056)\n",
      "tensor(1.6056)\n",
      "tensor(1.6056)\n",
      "tensor(1.6056)\n",
      "tensor(1.6056)\n",
      "tensor(1.6056)\n",
      "tensor(1.6056)\n",
      "tensor(1.6056)\n",
      "tensor(1.6056)\n",
      "tensor(1.6056)\n",
      "tensor(1.6056)\n",
      "tensor(1.6056)\n",
      "tensor(1.6056)\n",
      "tensor(1.6056)\n",
      "tensor(1.6056)\n",
      "tensor(1.6056)\n",
      "tensor(1.6056)\n",
      "tensor(1.6056)\n"
     ]
    }
   ],
   "source": [
    "label = y_noise # 이제와서 이렇게 바꾸는 이유를 모르겠다.\n",
    "\n",
    "num_epoch = 10\n",
    "losses = []\n",
    "\n",
    "if torch.cuda.is_available():\n",
    "    model = model.cuda()\n",
    "    x = x.cuda()\n",
    "    label = y_noise.cuda()\n",
    "\n",
    "for i in range(num_epoch):\n",
    "    \n",
    "    optimizer.zero_grad()\n",
    "    output = model(x) # x 를 일단 model 에 집어넣습니다\n",
    "    \n",
    "    loss = loss_func(output, label)\n",
    "    loss.backward() # 자동 미분하여 각 weight 에 해당하는 gradient 를 계산한다 ( 자동 !)\n",
    "    \n",
    "    optimizer.step() # 앞에서 설정한 learning rate, 최적화 함수를 활용하여 한 step 최적화 한다.\n",
    "    \n",
    "    if i % 10 == 0:\n",
    "        print(loss.data.cpu()) # Tensor data 의 값만 출력하고 싶을 경우 .data 라는 method 를 사용한다"
   ]
  },
  {
   "cell_type": "markdown",
   "metadata": {},
   "source": [
    "### 모델 검증"
   ]
  },
  {
   "cell_type": "code",
   "execution_count": 79,
   "metadata": {},
   "outputs": [],
   "source": [
    "num_test_data = 1000\n",
    "\n",
    "model = model.cpu()\n",
    "\n",
    "test_data = init.uniform_(torch.Tensor(num_test_data, 1), -10, 10)\n",
    "# print(test_data, model(test_data))"
   ]
  },
  {
   "cell_type": "markdown",
   "metadata": {},
   "source": [
    "### 시각화"
   ]
  },
  {
   "cell_type": "code",
   "execution_count": 82,
   "metadata": {},
   "outputs": [
    {
     "data": {
      "image/png": "[encoded data removed]",
      "text/plain": [
       "<Figure size 432x288 with 1 Axes>"
      ]
     },
     "metadata": {
      "needs_background": "light"
     },
     "output_type": "display_data"
    }
   ],
   "source": [
    "import matplotlib.pyplot as plt\n",
    "\n",
    "x = x.cpu()\n",
    "\n",
    "plt.plot(x.data, y_noise.cpu().data, 'rx')\n",
    "plt.plot(x.data, y.data, 'k-')\n",
    "plt.legend(['train data', 'real data'])\n",
    "plt.title('Linear regression before training')\n",
    "plt.grid(True)\n",
    "plt.show()"
   ]
  },
  {
   "cell_type": "code",
   "execution_count": 85,
   "metadata": {},
   "outputs": [
    {
     "data": {
      "image/png": "[encoded data removed]",
      "text/plain": [
       "<Figure size 432x288 with 1 Axes>"
      ]
     },
     "metadata": {
      "needs_background": "light"
     },
     "output_type": "display_data"
    }
   ],
   "source": [
    "plt.plot(test_data.data, model(test_data).data, 'rx')\n",
    "plt.plot(test_data.data, test_data * 2 + 3, 'k-')\n",
    "plt.legend(['test data', 'real data'])\n",
    "plt.title('Linear regression after training')\n",
    "plt.grid(True)\n",
    "plt.show()"
   ]
  },
  {
   "cell_type": "code",
   "execution_count": null,
   "metadata": {},
   "outputs": [],
   "source": []
  }
 ],
 "metadata": {
  "kernelspec": {
   "display_name": "Python 3",
   "language": "python",
   "name": "python3"
  },
  "language_info": {
   "codemirror_mode": {
    "name": "ipython",
    "version": 3
   },
   "file_extension": ".py",
   "mimetype": "text/x-python",
   "name": "python",
   "nbconvert_exporter": "python",
   "pygments_lexer": "ipython3",
   "version": "3.7.4"
  }
 },
 "nbformat": 4,
 "nbformat_minor": 2
}
